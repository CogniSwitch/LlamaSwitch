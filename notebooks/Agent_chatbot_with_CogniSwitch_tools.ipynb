{
 "cells": [
  {
   "cell_type": "code",
   "execution_count": null,
   "id": "638f3004",
   "metadata": {
    "scrolled": true
   },
   "outputs": [],
   "source": [
    "<a target=\"_blank\" href=\"https://colab.research.google.com/github/CogniSwitch/LlamaSwitch/blob/main/notebooks/Agent_chatbot_with_CogniSwitch_tools.ipynb\">\n",
    "  <img src=\"https://colab.research.google.com/assets/colab-badge.svg\" alt=\"Open In Colab\"/>\n",
    "</a>"
   ]
  },
  {
   "cell_type": "markdown",
   "id": "8cadfd8e",
   "metadata": {},
   "source": [
    "### Install required libraries"
   ]
  },
  {
   "cell_type": "code",
   "execution_count": null,
   "id": "12aadc9b",
   "metadata": {},
   "outputs": [],
   "source": [
    "# !pip install llama-index\n",
    "\n",
    "# !pip install openai\n",
    "\n",
    "# !pip install llama-index-llms-anthropic \n",
    "\n",
    "# !pip install llama-index-llms-bedrock"
   ]
  },
  {
   "cell_type": "markdown",
   "id": "d3a9ade2",
   "metadata": {},
   "source": [
    "### Import required libraries"
   ]
  },
  {
   "cell_type": "code",
   "execution_count": null,
   "id": "aa6f0ae1",
   "metadata": {},
   "outputs": [],
   "source": [
    "import os\n",
    "import requests\n",
    "\n",
    "from llama_index.core.tools import FunctionTool\n",
    "\n",
    "from llama_index.core.agent import ReActAgent\n",
    "\n",
    "from llama_index.llms.openai import OpenAI\n",
    "\n",
    "from llama_index.llms.anthropic import Anthropic\n",
    "\n",
    "from llama_index.llms.bedrock import Bedrock\n",
    "\n",
    "from cogniswitch import CSAPI"
   ]
  },
  {
   "cell_type": "markdown",
   "id": "55d6980f",
   "metadata": {},
   "source": [
    "### CogniSwitch credentials"
   ]
  },
  {
   "cell_type": "markdown",
   "id": "3465da89",
   "metadata": {},
   "source": [
    "**You can get your CogniSwitch credentials by signing here: https://console.cogniswitch.ai:8443/signup**\n",
    "- cs_token refers to the platform token\n",
    "- oauth_token refers to the ApiKey\n",
    "- OAI_token refers to the OpenAI API key"
   ]
  },
  {
   "cell_type": "code",
   "execution_count": null,
   "id": "cdd4088b",
   "metadata": {},
   "outputs": [],
   "source": [
    "cs_token = \"Your CongiSwitch platform token\"\n",
    "\n",
    "oauth_token = \"Your CogniSwitch ApiKey\"\n",
    "\n",
    "OAI_token = \"Your OpenAI API key\""
   ]
  },
  {
   "cell_type": "markdown",
   "id": "58c391b8",
   "metadata": {},
   "source": [
    "### Instantiate a llm with a OpenAI key"
   ]
  },
  {
   "cell_type": "code",
   "execution_count": null,
   "id": "b99bf39d",
   "metadata": {},
   "outputs": [],
   "source": [
    "os.environ[\"OPENAI_API_KEY\"] = OAI_token\n",
    "\n",
    "openai_llm = OpenAI(model=\"gpt-3.5-turbo-0125\")"
   ]
  },
  {
   "cell_type": "markdown",
   "id": "1b3bb0b3",
   "metadata": {},
   "source": [
    "### Instantiate a llm with Anthropic key"
   ]
  },
  {
   "cell_type": "code",
   "execution_count": null,
   "id": "26d94444",
   "metadata": {},
   "outputs": [],
   "source": [
    "# os.environ['ANTHROPIC_API_KEY'] = \"Put your Anthropic API key here\"\n",
    "\n",
    "# anthropic_llm = Anthropic(model=\"claude-3-5-sonnet-20240620\", temperature=0.0)"
   ]
  },
  {
   "cell_type": "markdown",
   "id": "060c66bb",
   "metadata": {},
   "source": [
    "### Instantiate a llm with Amazon bedrock"
   ]
  },
  {
   "cell_type": "code",
   "execution_count": null,
   "id": "a3b9dd89",
   "metadata": {},
   "outputs": [],
   "source": [
    "# bedrock_llm = Bedrock(\n",
    "#     model=\"amazon.titan-text-express-v1\",\n",
    "#     aws_access_key_id=\"AWS Access Key ID to use\",\n",
    "#     aws_secret_access_key=\"AWS Secret Access Key to use\",\n",
    "#     aws_session_token=\"AWS Session Token to use\",\n",
    "#     region_name=\"AWS Region to use, eg. us-east-1\",\n",
    "# )\n"
   ]
  },
  {
   "cell_type": "markdown",
   "id": "4fd12f41",
   "metadata": {},
   "source": [
    "### Instantiate the class with the CogniSwitch credentials"
   ]
  },
  {
   "cell_type": "code",
   "execution_count": null,
   "id": "bf84ed72",
   "metadata": {},
   "outputs": [],
   "source": [
    "cs_apis = CSAPI(cs_token=cs_token,\n",
    "                              OAI_token=OAI_token,\n",
    "                              oauth_token=oauth_token)"
   ]
  },
  {
   "cell_type": "markdown",
   "id": "eeceea6b",
   "metadata": {},
   "source": [
    "### Assign the different tools into a list"
   ]
  },
  {
   "cell_type": "code",
   "execution_count": null,
   "id": "4f0263c6",
   "metadata": {},
   "outputs": [],
   "source": [
    "cs_data_tool = FunctionTool.from_defaults(cs_apis.cs_data_retrieval_api,\n",
    "                                          name = \"CS_data_retrieval\"\n",
    "                                         )\n",
    "cs_answer_tool = FunctionTool.from_defaults(cs_apis.answer_cs,\n",
    "                                          name = \"CS_answer\"\n",
    "                                         )\n",
    "cs_url_upload_tool = FunctionTool.from_defaults(cs_apis.store_data_url,\n",
    "                                          name = \"CS_url_upload\"\n",
    "                                         )\n",
    "cs_file_upload_tool = FunctionTool.from_defaults(cs_apis.store_data_file,\n",
    "                                          name = \"CS_file_upload\"\n",
    "                                         )\n",
    "cs_upload_status_tool = FunctionTool.from_defaults(cs_apis.knowledge_status,\n",
    "                                          name = \"CS_status\"\n",
    "                                         )\n"
   ]
  },
  {
   "cell_type": "code",
   "execution_count": null,
   "id": "047147a4",
   "metadata": {},
   "outputs": [],
   "source": [
    "tool_lst = [\n",
    "    cs_data_tool,\n",
    "    cs_answer_tool,\n",
    "    cs_url_upload_tool,\n",
    "    cs_file_upload_tool,\n",
    "    cs_upload_status_tool\n",
    "]"
   ]
  },
  {
   "cell_type": "markdown",
   "id": "0896d26b",
   "metadata": {},
   "source": [
    "### Instantiate the agent with the tools and llm"
   ]
  },
  {
   "cell_type": "code",
   "execution_count": null,
   "id": "9add4e03",
   "metadata": {},
   "outputs": [],
   "source": [
    "agent = ReActAgent.from_tools(tool_lst, llm=openai_llm, verbose=True)"
   ]
  },
  {
   "cell_type": "code",
   "execution_count": null,
   "id": "816eae07",
   "metadata": {},
   "outputs": [],
   "source": [
    "# agent = ReActAgent.from_tools(tool_lst, llm=anthropic_llm, verbose=True)"
   ]
  },
  {
   "cell_type": "code",
   "execution_count": null,
   "id": "81bbe146",
   "metadata": {},
   "outputs": [],
   "source": [
    "# agent = ReActAgent.from_tools(tool_lst, llm=bedrock_llm, verbose=True)"
   ]
  },
  {
   "cell_type": "markdown",
   "id": "6b1e40d6",
   "metadata": {},
   "source": [
    "### Chatbot"
   ]
  },
  {
   "cell_type": "code",
   "execution_count": null,
   "id": "4a82d8d5",
   "metadata": {
    "scrolled": false
   },
   "outputs": [],
   "source": [
    "while True:\n",
    "    user = input(\"\\nHuman: \")\n",
    "    if user == \"stop\":\n",
    "        print(\"\\nBye, Have a good day!!!\")\n",
    "        break\n",
    "    \n",
    "    agent.chat(user)"
   ]
  },
  {
   "cell_type": "code",
   "execution_count": null,
   "id": "6afc80c1",
   "metadata": {},
   "outputs": [],
   "source": []
  }
 ],
 "metadata": {
  "kernelspec": {
   "display_name": "llama_index_env",
   "language": "python",
   "name": "llama_index_env"
  },
  "language_info": {
   "codemirror_mode": {
    "name": "ipython",
    "version": 3
   },
   "file_extension": ".py",
   "mimetype": "text/x-python",
   "name": "python",
   "nbconvert_exporter": "python",
   "pygments_lexer": "ipython3",
   "version": "3.9.18"
  }
 },
 "nbformat": 4,
 "nbformat_minor": 5
}
