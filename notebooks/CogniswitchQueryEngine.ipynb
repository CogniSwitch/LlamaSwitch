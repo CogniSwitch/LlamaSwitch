{
 "cells": [
  {
   "cell_type": "markdown",
   "id": "d19fac66",
   "metadata": {},
   "source": [
    "## CogniswitchQueryEngine\n",
    "\n",
    "**Use CogniSwitch to build production ready applications that can consume, organize and retrieve knowledge flawlessly. Using the framework of your choice, in this case LlamaIndex, CogniSwitch helps alleviate the stress of decision making when it comes to, choosing the right storage and retrieval formats. It also eradicates reliability issues and hallucinations when it comes to responses that are generated. Get started by interacting with your knowledge in simple steps**\n",
    "\n",
    "Visit [https://www.cogniswitch.ai/developer](https://www.cogniswitch.ai/developer?utm_source=llamaindex&utm_medium=llamaindexbuild&utm_id=dev).<br>\n",
    "\n",
    "**Registration:**\n",
    "- Signup with your email and verify your registration\n",
    "- You will get a mail with a platform token and oauth token for using the services.\n",
    "\n",
    "**Upload Knowledge:**\n",
    "- There are two ways to add your knowledge into Cogniswitch.\n",
    "1. You can sign-in to Cogniswitch website and upload your document files or submit a url from the Document Upload page.<br>\n",
    "2. You can use the CogniswitchToolSpec in llama-hub tools to add document or a url in Cogniswitch.<br> \n",
    "\n",
    "**CogniswitchQueryEngine:**<br>\n",
    "- Instantiate the cogniswitchQueryEngine with the tokens and API keys.\n",
    "- Use query_knowledge function in the Query Engine and input your query. <br>\n",
    "- You will get the answer from your knowledge as the response. <br>\n"
   ]
  },
  {
   "cell_type": "code",
   "execution_count": null,
   "id": "9ae5da86",
   "metadata": {},
   "outputs": [],
   "source": [
    "# !pip install llama-index"
   ]
  },
  {
   "cell_type": "markdown",
   "id": "ce6a1c44",
   "metadata": {},
   "source": [
    "### Import Required Libraries"
   ]
  },
  {
   "cell_type": "code",
   "execution_count": 1,
   "id": "eaeca557",
   "metadata": {},
   "outputs": [],
   "source": [
    "import warnings\n",
    "warnings.filterwarnings(\"ignore\")\n",
    "from llama_index.query_engine.cogniswitch_query_engine import CogniswitchQueryEngine"
   ]
  },
  {
   "cell_type": "markdown",
   "id": "eecaa97a",
   "metadata": {},
   "source": [
    "### Cogniswitch Credentials and OpenAI token"
   ]
  },
  {
   "cell_type": "code",
   "execution_count": 2,
   "id": "67ddc803",
   "metadata": {},
   "outputs": [],
   "source": [
    "# cs_token = <your cogniswitch platform token>\n",
    "# OAI_token = <your openai token>\n",
    "# oauth_token = <your cogniswitch apikey>"
   ]
  },
  {
   "cell_type": "markdown",
   "id": "7a6db5a6",
   "metadata": {},
   "source": [
    "### Instantiate the Query Engine"
   ]
  },
  {
   "cell_type": "code",
   "execution_count": 3,
   "id": "38c9c80a",
   "metadata": {},
   "outputs": [],
   "source": [
    "query_engine = CogniswitchQueryEngine(cs_token=cs_token, OAI_token=OAI_token, apiKey=oauth_token)"
   ]
  },
  {
   "cell_type": "markdown",
   "id": "52ddf809",
   "metadata": {},
   "source": [
    "### Use the query_engine to chat with your knowledge"
   ]
  },
  {
   "cell_type": "code",
   "execution_count": 4,
   "id": "2544cdc9",
   "metadata": {},
   "outputs": [
    {
     "name": "stdout",
     "output_type": "stream",
     "text": [
      "CogniSwitch is a platform that helps in building production-ready Generative AI applications. It allows you to quickly build applications at scale using your preferred frameworks and tools. CogniSwitch manages intricate decisions like data storage, retrieval, and source tracking, so you can focus on creating robust AI-powered applications. It streamlines knowledge graphs, making it easy to generate dynamic graphs and organize and explore data intuitively. CogniSwitch also simplifies document management by seamlessly handling various document types and automating document processing. It enables natural language queries, allowing you to respond to queries with intelligent knowledge graphs and deliver user-friendly, context-aware answers. CogniSwitch maintains transparency with provenance/source tracking, keeping track of the origin, history, and edits made to the knowledge. It integrates human expertise, allowing collaboration with knowledge experts to fine-tune knowledge and ensure alignment with specific requirements. CogniSwitch visualizes knowledge with graph-based representations, simplifying complex ideas and connections. Overall, CogniSwitch brings better functionality to applications, manages data storage, organizes and explores data intuitively, simplifies complex ideas and connections, delivers user-friendly answers, and integrates human expertise.\n"
     ]
    }
   ],
   "source": [
    "answer_response = query_engine.query_knowledge(\"tell me about cogniswitch\")\n",
    "print(answer_response)"
   ]
  }
 ],
 "metadata": {
  "kernelspec": {
   "display_name": "llama_index_env",
   "language": "python",
   "name": "llama_index_env"
  },
  "language_info": {
   "codemirror_mode": {
    "name": "ipython",
    "version": 3
   },
   "file_extension": ".py",
   "mimetype": "text/x-python",
   "name": "python",
   "nbconvert_exporter": "python",
   "pygments_lexer": "ipython3",
   "version": "3.9.18"
  }
 },
 "nbformat": 4,
 "nbformat_minor": 5
}
