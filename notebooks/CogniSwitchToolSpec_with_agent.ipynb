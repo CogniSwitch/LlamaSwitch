{
 "cells": [
  {
   "cell_type": "markdown",
   "id": "cb0bc44f",
   "metadata": {},
   "source": [
    "<a target=\"_blank\" href=\"https://colab.research.google.com/github/CogniSwitch/LlamaSwitch/blob/main/notebooks/CogniSwitchToolSpec_with_agent.ipynb\">\n",
    "  <img src=\"https://colab.research.google.com/assets/colab-badge.svg\" alt=\"Open In Colab\"/>\n",
    "</a>"
   ]
  },
  {
   "cell_type": "markdown",
   "id": "d19fac66",
   "metadata": {},
   "source": [
    "## Cogniswitch ToolSpec\n",
    "\n",
    "**Use CogniSwitch to build production ready applications that can consume, organize and retrieve knowledge flawlessly. Using the framework of your choice, in this case LlamaIndex, CogniSwitch helps alleviate the stress of decision making when it comes to, choosing the right storage and retrieval formats. It also eradicates reliability issues and hallucinations when it comes to responses that are generated. Get started by interacting with your knowledge in simple steps**\n",
    "\n",
    "visit [https://www.cogniswitch.ai/developer](https://www.cogniswitch.ai/developer?utm_source=llamaindex&utm_medium=llamaindexbuild&utm_id=dev).<br>\n",
    "\n",
    "**Registration:**\n",
    "- Signup with your email and verify your registration\n",
    "- You will get a mail with a platform token and oauth token for using the services.\n",
    "\n",
    "\n",
    "**Step 1: Instantiate the Cogniswitch ToolSpec:**<br>\n",
    "- Use your cogniswitch token, openAI API key, oauth token to instantiate the toolspec. <br> \n",
    "\n",
    "**Step 2: Instantiate the Agent:**<br>\n",
    "- Instantiate the agent with the list of tools from the toolspec. <br> \n",
    "\n",
    "**Step 3: Cogniswitch Store data:**<br>\n",
    "- Make the call to the agent by giving the file path or url to the agent input. <br>\n",
    "- The agent will pick the tool and use the file/url and it will be processed and stored in your knowledge store. <br> \n",
    "- You can check the status of document processing with a call to the agent. Alternatively you can also check in [cogniswitch console](https://console.cogniswitch.ai:8443/ui/document-upload). <br>\n",
    "\n",
    "**Step 4: Cogniswitch Answer:**<br>\n",
    "- Make the call to the agent by giving query as agent input. <br>\n",
    "- You will get the answer from your knowledge as the response. <br>\n"
   ]
  },
  {
   "cell_type": "markdown",
   "id": "5078acbf",
   "metadata": {},
   "source": [
    "### Import Required Libraries"
   ]
  },
  {
   "cell_type": "code",
   "execution_count": 1,
   "id": "fb4e6bd6",
   "metadata": {},
   "outputs": [],
   "source": [
    "import warnings\n",
    "\n",
    "warnings.filterwarnings(\"ignore\")\n",
    "\n",
    "import os"
   ]
  },
  {
   "cell_type": "code",
   "execution_count": 2,
   "id": "5654cdff",
   "metadata": {},
   "outputs": [],
   "source": [
    "from llama_hub.tools.cogniswitch import CogniswitchToolSpec\n",
    "from llama_index.agent import ReActAgent"
   ]
  },
  {
   "cell_type": "markdown",
   "id": "eecaa97a",
   "metadata": {},
   "source": [
    "### Cogniswitch Credentials and OpenAI token"
   ]
  },
  {
   "cell_type": "code",
   "execution_count": 3,
   "id": "36868f1d",
   "metadata": {},
   "outputs": [],
   "source": [
    "# cs_token = <your cogniswitch platform token>\n",
    "# oauth_token = <your cogniswitch apikey>\n",
    "# os.environ[\"OPENAI_API_KEY\"] = <your OpenAI token>"
   ]
  },
  {
   "cell_type": "markdown",
   "id": "7a6db5a6",
   "metadata": {},
   "source": [
    "### Instantiate the Tool Spec"
   ]
  },
  {
   "cell_type": "code",
   "execution_count": 4,
   "id": "38c9c80a",
   "metadata": {},
   "outputs": [],
   "source": [
    "toolspec = CogniswitchToolSpec(\n",
    "    cs_token=cs_token, apiKey=oauth_token\n",
    ")"
   ]
  },
  {
   "cell_type": "markdown",
   "id": "a68fb5b2",
   "metadata": {},
   "source": [
    "### Get the list of tools in the toolspec"
   ]
  },
  {
   "cell_type": "code",
   "execution_count": 5,
   "id": "7ee05b9e",
   "metadata": {},
   "outputs": [],
   "source": [
    "tool_lst = toolspec.to_tool_list()"
   ]
  },
  {
   "cell_type": "markdown",
   "id": "6512e206",
   "metadata": {},
   "source": [
    "### Instantiate the agent "
   ]
  },
  {
   "cell_type": "code",
   "execution_count": 6,
   "id": "e6cc90f7",
   "metadata": {},
   "outputs": [],
   "source": [
    "agent = ReActAgent.from_tools(tool_lst)"
   ]
  },
  {
   "cell_type": "markdown",
   "id": "577c961e",
   "metadata": {},
   "source": [
    "### Use the agent for storing data in cogniswitch with a single call"
   ]
  },
  {
   "cell_type": "code",
   "execution_count": 7,
   "id": "99370d3a",
   "metadata": {},
   "outputs": [],
   "source": [
    "store_response = agent.chat(\"Upload this URL- https://cogniswitch.ai/developer\")"
   ]
  },
  {
   "cell_type": "code",
   "execution_count": 8,
   "id": "adcb8b53",
   "metadata": {},
   "outputs": [
    {
     "name": "stdout",
     "output_type": "stream",
     "text": [
      "Cogniswitch is currently processing the content and will send an email notification upon completion.\n"
     ]
    }
   ],
   "source": [
    "print(store_response)"
   ]
  },
  {
   "cell_type": "markdown",
   "id": "f1034250",
   "metadata": {},
   "source": [
    "### Use the agent for storing data from a file"
   ]
  },
  {
   "cell_type": "code",
   "execution_count": 9,
   "id": "ff59a673",
   "metadata": {},
   "outputs": [],
   "source": [
    "store_response = agent.chat(\"Upload this file- sample_file.txt\")"
   ]
  },
  {
   "cell_type": "code",
   "execution_count": 10,
   "id": "eef47e53",
   "metadata": {},
   "outputs": [
    {
     "name": "stdout",
     "output_type": "stream",
     "text": [
      "The file sample_file.txt has been successfully uploaded.\n"
     ]
    }
   ],
   "source": [
    "print(store_response)"
   ]
  },
  {
   "cell_type": "markdown",
   "id": "fbbd4414",
   "metadata": {},
   "source": [
    "### Use the agent to know the document status with a single call"
   ]
  },
  {
   "cell_type": "code",
   "execution_count": 11,
   "id": "215e3857",
   "metadata": {},
   "outputs": [],
   "source": [
    "response = agent.chat(\"Tell me the status of Cogniswitch Developer Website\")"
   ]
  },
  {
   "cell_type": "code",
   "execution_count": 12,
   "id": "6332fe7e",
   "metadata": {},
   "outputs": [
    {
     "name": "stdout",
     "output_type": "stream",
     "text": [
      "The Cogniswitch Developer Website has been successfully processed and stored under the collection name \"cscddff730dfa94946b\".\n"
     ]
    }
   ],
   "source": [
    "print(response)"
   ]
  },
  {
   "cell_type": "code",
   "execution_count": 13,
   "id": "001dad17",
   "metadata": {},
   "outputs": [
    {
     "name": "stdout",
     "output_type": "stream",
     "text": [
      "{'createdOn': '2023-12-05T13:57:27.000+00:00', 'modifiedOn': '2023-12-05T13:57:27.000+00:00', 'createdByUserId': None, 'modifiedByUserId': None, 'docEntryId': 97, 'filePath': '', 'url': 'https://cogniswitch.ai/developer', 'type': 'URL', 'integrationConfigId': 7, 'version': 0, 'status': 0, 'documentName': 'Cogniswitch Developer Website', 'documentDescription': 'Website about Cogniswitch for developers', 'originalFileName': '', 'savedFileName': '', 'metaData': '{\"activityLogs\":[{\"status\":\"UPLOADED\",\"time\":1701784642298,\"body\":\"\"},{\"status\":\"PROCESSING\",\"time\":1701784642302,\"body\":\"\"},{\"status\":\"PROCESSING\",\"time\":1701784646988,\"body\":\"[{\\\\\"doc_processing_Id\\\\\":\\\\\"97\\\\\",\\\\\"message\\\\\":\\\\\"success\\\\\\\\n The data extracted from https://cogniswitch.ai/developer with document id 97 is processing under the collection name: cscddff730dfa94946b\\\\\",\\\\\"statusCode\\\\\":1000},200]\\\\n\"},{\"status\":\"SUCCESS\",\"time\":1701784746281,\"body\":\"{\\\\\"docProcessingId\\\\\":97,\\\\\"statusCode\\\\\":1000,\\\\\"message\\\\\":\\\\\"success\\\\\\\\n The data extracted from https://cogniswitch.ai/developer with document id 97 is stored under the collection name: cscddff730dfa94946b\\\\\"}\"}]}'}\n"
     ]
    }
   ],
   "source": [
    "print(response.sources[0])"
   ]
  },
  {
   "cell_type": "markdown",
   "id": "52ddf809",
   "metadata": {},
   "source": [
    "### Use agent for answering with a single call"
   ]
  },
  {
   "cell_type": "code",
   "execution_count": 14,
   "id": "a423b24a",
   "metadata": {},
   "outputs": [],
   "source": [
    "answer_response = agent.chat(\"How does cogniswitch help developers\")"
   ]
  },
  {
   "cell_type": "code",
   "execution_count": 15,
   "id": "2544cdc9",
   "metadata": {},
   "outputs": [
    {
     "name": "stdout",
     "output_type": "stream",
     "text": [
      "Answer: CogniSwitch enhances the functionality of applications, making it a valuable tool for developers.\n"
     ]
    }
   ],
   "source": [
    "print(answer_response)"
   ]
  }
 ],
 "metadata": {
  "kernelspec": {
   "display_name": "llama_index_env",
   "language": "python",
   "name": "llama_index_env"
  },
  "language_info": {
   "codemirror_mode": {
    "name": "ipython",
    "version": 3
   },
   "file_extension": ".py",
   "mimetype": "text/x-python",
   "name": "python",
   "nbconvert_exporter": "python",
   "pygments_lexer": "ipython3",
   "version": "3.9.18"
  }
 },
 "nbformat": 4,
 "nbformat_minor": 5
}
